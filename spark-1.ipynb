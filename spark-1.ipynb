{
 "cells": [
  {
   "cell_type": "code",
   "execution_count": 3,
   "id": "da4709c8",
   "metadata": {},
   "outputs": [],
   "source": [
    "# # !pip install pyspark"
   ]
  },
  {
   "cell_type": "code",
   "execution_count": 4,
   "id": "ccc28de3",
   "metadata": {},
   "outputs": [],
   "source": [
    "from pyspark.sql import SparkSession\n",
    "import pandas as pd"
   ]
  },
  {
   "cell_type": "code",
   "execution_count": 5,
   "id": "e0bfe2ea",
   "metadata": {
    "scrolled": true
   },
   "outputs": [
    {
     "data": {
      "text/html": [
       "\n",
       "            <div>\n",
       "                <p><b>SparkSession - in-memory</b></p>\n",
       "                \n",
       "        <div>\n",
       "            <p><b>SparkContext</b></p>\n",
       "\n",
       "            <p><a href=\"http://MuhammedPc:4040\">Spark UI</a></p>\n",
       "\n",
       "            <dl>\n",
       "              <dt>Version</dt>\n",
       "                <dd><code>v3.2.0</code></dd>\n",
       "              <dt>Master</dt>\n",
       "                <dd><code>local[*]</code></dd>\n",
       "              <dt>AppName</dt>\n",
       "                <dd><code>Practise</code></dd>\n",
       "            </dl>\n",
       "        </div>\n",
       "        \n",
       "            </div>\n",
       "        "
      ],
      "text/plain": [
       "<pyspark.sql.session.SparkSession at 0x1f7ce425310>"
      ]
     },
     "execution_count": 5,
     "metadata": {},
     "output_type": "execute_result"
    }
   ],
   "source": [
    "spark=SparkSession.builder.appName('Practise').getOrCreate()\n",
    "spark"
   ]
  },
  {
   "cell_type": "markdown",
   "id": "c651ed73",
   "metadata": {},
   "source": [
    "# Load data - read.csv"
   ]
  },
  {
   "cell_type": "code",
   "execution_count": 6,
   "id": "f01f91d9",
   "metadata": {
    "scrolled": true
   },
   "outputs": [
    {
     "name": "stdout",
     "output_type": "stream",
     "text": [
      "+-----------+---------+---------+----------+----------+----------+----------+--------+-------------+\n",
      "|-122.230000|37.880000|41.000000|880.000000|129.000000|322.000000|126.000000|8.325200|452600.000000|\n",
      "+-----------+---------+---------+----------+----------+----------+----------+--------+-------------+\n",
      "|    -122.22|    37.86|     21.0|    7099.0|    1106.0|    2401.0|    1138.0|  8.3014|     358500.0|\n",
      "|    -122.24|    37.85|     52.0|    1467.0|     190.0|     496.0|     177.0|  7.2574|     352100.0|\n",
      "|    -122.25|    37.85|     52.0|    1274.0|     235.0|     558.0|     219.0|  5.6431|     341300.0|\n",
      "|    -122.25|    37.85|     52.0|    1627.0|     280.0|     565.0|     259.0|  3.8462|     342200.0|\n",
      "|    -122.25|    37.85|     52.0|     919.0|     213.0|     413.0|     193.0|  4.0368|     269700.0|\n",
      "+-----------+---------+---------+----------+----------+----------+----------+--------+-------------+\n",
      "only showing top 5 rows\n",
      "\n"
     ]
    }
   ],
   "source": [
    "# df_pyspark=spark.read.csv('datasets/cal_housing.csv')\n",
    "# we should use inferSchema=True to get correct types, or all types will be string\n",
    "# df_pyspark=spark.read.option('header','true').csv('datasets/cal_housing.csv',inferSchema=True)\n",
    "# or\n",
    "df_pyspark=spark.read.csv('datasets/cal_housing.csv',header=True,inferSchema=True)\n",
    "df_pyspark.show(5)"
   ]
  },
  {
   "cell_type": "markdown",
   "id": "6bef4077",
   "metadata": {},
   "source": [
    "# set columns names"
   ]
  },
  {
   "cell_type": "code",
   "execution_count": 7,
   "id": "472b2d02",
   "metadata": {},
   "outputs": [],
   "source": [
    "df=df_pyspark.toDF('longitude','latitude','housingMedianAge','totalRooms','totalBedrooms','population','households',\n",
    "                   'medianIncome','medianHouseValue' )"
   ]
  },
  {
   "cell_type": "code",
   "execution_count": 8,
   "id": "75a9a8dd",
   "metadata": {},
   "outputs": [
    {
     "name": "stdout",
     "output_type": "stream",
     "text": [
      "+---------+--------+----------------+----------+-------------+----------+----------+------------+----------------+\n",
      "|longitude|latitude|housingMedianAge|totalRooms|totalBedrooms|population|households|medianIncome|medianHouseValue|\n",
      "+---------+--------+----------------+----------+-------------+----------+----------+------------+----------------+\n",
      "|  -122.22|   37.86|            21.0|    7099.0|       1106.0|    2401.0|    1138.0|      8.3014|        358500.0|\n",
      "|  -122.24|   37.85|            52.0|    1467.0|        190.0|     496.0|     177.0|      7.2574|        352100.0|\n",
      "|  -122.25|   37.85|            52.0|    1274.0|        235.0|     558.0|     219.0|      5.6431|        341300.0|\n",
      "+---------+--------+----------------+----------+-------------+----------+----------+------------+----------------+\n",
      "only showing top 3 rows\n",
      "\n"
     ]
    }
   ],
   "source": [
    "df.show(3)"
   ]
  },
  {
   "cell_type": "code",
   "execution_count": 9,
   "id": "2854f2d7",
   "metadata": {},
   "outputs": [
    {
     "data": {
      "text/plain": [
       "[Row(longitude=-122.22, latitude=37.86, housingMedianAge=21.0, totalRooms=7099.0, totalBedrooms=1106.0, population=2401.0, households=1138.0, medianIncome=8.3014, medianHouseValue=358500.0),\n",
       " Row(longitude=-122.24, latitude=37.85, housingMedianAge=52.0, totalRooms=1467.0, totalBedrooms=190.0, population=496.0, households=177.0, medianIncome=7.2574, medianHouseValue=352100.0),\n",
       " Row(longitude=-122.25, latitude=37.85, housingMedianAge=52.0, totalRooms=1274.0, totalBedrooms=235.0, population=558.0, households=219.0, medianIncome=5.6431, medianHouseValue=341300.0)]"
      ]
     },
     "execution_count": 9,
     "metadata": {},
     "output_type": "execute_result"
    }
   ],
   "source": [
    "df.head(3)"
   ]
  },
  {
   "cell_type": "code",
   "execution_count": 10,
   "id": "7d7806e1",
   "metadata": {},
   "outputs": [
    {
     "data": {
      "text/plain": [
       "pyspark.sql.dataframe.DataFrame"
      ]
     },
     "execution_count": 10,
     "metadata": {},
     "output_type": "execute_result"
    }
   ],
   "source": [
    "type(df_pyspark)"
   ]
  },
  {
   "cell_type": "markdown",
   "id": "e52567c0",
   "metadata": {},
   "source": [
    "# To check the data types of the columns (Schema)"
   ]
  },
  {
   "cell_type": "code",
   "execution_count": 11,
   "id": "e8a3f83c",
   "metadata": {},
   "outputs": [
    {
     "name": "stdout",
     "output_type": "stream",
     "text": [
      "root\n",
      " |-- longitude: double (nullable = true)\n",
      " |-- latitude: double (nullable = true)\n",
      " |-- housingMedianAge: double (nullable = true)\n",
      " |-- totalRooms: double (nullable = true)\n",
      " |-- totalBedrooms: double (nullable = true)\n",
      " |-- population: double (nullable = true)\n",
      " |-- households: double (nullable = true)\n",
      " |-- medianIncome: double (nullable = true)\n",
      " |-- medianHouseValue: double (nullable = true)\n",
      "\n"
     ]
    }
   ],
   "source": [
    "df.printSchema()"
   ]
  },
  {
   "cell_type": "code",
   "execution_count": 12,
   "id": "89cdc1ad",
   "metadata": {},
   "outputs": [
    {
     "data": {
      "text/plain": [
       "['longitude',\n",
       " 'latitude',\n",
       " 'housingMedianAge',\n",
       " 'totalRooms',\n",
       " 'totalBedrooms',\n",
       " 'population',\n",
       " 'households',\n",
       " 'medianIncome',\n",
       " 'medianHouseValue']"
      ]
     },
     "execution_count": 12,
     "metadata": {},
     "output_type": "execute_result"
    }
   ],
   "source": [
    "df.columns"
   ]
  },
  {
   "cell_type": "markdown",
   "id": "d861b47e",
   "metadata": {},
   "source": [
    "# Select few columns to display"
   ]
  },
  {
   "cell_type": "code",
   "execution_count": 13,
   "id": "e4c0d8d8",
   "metadata": {},
   "outputs": [
    {
     "name": "stdout",
     "output_type": "stream",
     "text": [
      "+------------+----------------+\n",
      "|medianIncome|medianHouseValue|\n",
      "+------------+----------------+\n",
      "|      8.3014|        358500.0|\n",
      "|      7.2574|        352100.0|\n",
      "|      5.6431|        341300.0|\n",
      "+------------+----------------+\n",
      "only showing top 3 rows\n",
      "\n"
     ]
    }
   ],
   "source": [
    "df.select(['medianIncome','medianHouseValue']).show(3)"
   ]
  },
  {
   "cell_type": "code",
   "execution_count": 14,
   "id": "52cd0358",
   "metadata": {},
   "outputs": [
    {
     "name": "stdout",
     "output_type": "stream",
     "text": [
      "+-------+-------------------+------------------+------------------+------------------+------------------+------------------+------------------+------------------+------------------+\n",
      "|summary|          longitude|          latitude|  housingMedianAge|        totalRooms|     totalBedrooms|        population|        households|      medianIncome|  medianHouseValue|\n",
      "+-------+-------------------+------------------+------------------+------------------+------------------+------------------+------------------+------------------+------------------+\n",
      "|  count|              20639|             20639|             20639|             20639|             20639|             20639|             20639|             20639|             20639|\n",
      "|   mean|-119.56957556082855|35.631752507389095|28.638887543001115|2635.8481515577305| 537.9178254760405|1425.5302097969864|499.55777896215903|3.8704551722467655|206843.91012161443|\n",
      "| stddev|  2.003494680133486|2.1359468160147936|12.585568404719403|2181.6338702978455|421.24849511044357|1132.4635069950618| 382.3301734237722|1.8996146793750477|115385.73170240328|\n",
      "|    min|            -124.35|             32.54|               1.0|               2.0|               1.0|               3.0|               1.0|            0.4999|           14999.0|\n",
      "|    max|            -114.31|             41.95|              52.0|           39320.0|            6445.0|           35682.0|            6082.0|           15.0001|          500001.0|\n",
      "+-------+-------------------+------------------+------------------+------------------+------------------+------------------+------------------+------------------+------------------+\n",
      "\n"
     ]
    }
   ],
   "source": [
    "df.describe().show()"
   ]
  },
  {
   "cell_type": "markdown",
   "id": "441a4901",
   "metadata": {},
   "source": [
    "# Adding new column"
   ]
  },
  {
   "cell_type": "code",
   "execution_count": 15,
   "id": "e921ea3b",
   "metadata": {
    "scrolled": true
   },
   "outputs": [
    {
     "name": "stdout",
     "output_type": "stream",
     "text": [
      "+---------+--------+----------------+----------+-------------+----------+----------+------------+----------------+------------------------+\n",
      "|longitude|latitude|housingMedianAge|totalRooms|totalBedrooms|population|households|medianIncome|medianHouseValue|population After 2 yesrs|\n",
      "+---------+--------+----------------+----------+-------------+----------+----------+------------+----------------+------------------------+\n",
      "|  -122.22|   37.86|            21.0|    7099.0|       1106.0|    2401.0|    1138.0|      8.3014|        358500.0|                  3401.0|\n",
      "|  -122.24|   37.85|            52.0|    1467.0|        190.0|     496.0|     177.0|      7.2574|        352100.0|                  1496.0|\n",
      "|  -122.25|   37.85|            52.0|    1274.0|        235.0|     558.0|     219.0|      5.6431|        341300.0|                  1558.0|\n",
      "+---------+--------+----------------+----------+-------------+----------+----------+------------+----------------+------------------------+\n",
      "only showing top 3 rows\n",
      "\n"
     ]
    }
   ],
   "source": [
    "# Note: this is not in place operation we need to assign it to a variable\n",
    "df=df.withColumn('population After 2 yesrs',df['population']+1000)\n",
    "df.show(3)"
   ]
  },
  {
   "cell_type": "markdown",
   "id": "4e866eca",
   "metadata": {},
   "source": [
    "# Drop columns"
   ]
  },
  {
   "cell_type": "code",
   "execution_count": 16,
   "id": "a17a47a9",
   "metadata": {
    "scrolled": false
   },
   "outputs": [
    {
     "name": "stdout",
     "output_type": "stream",
     "text": [
      "+----------------+----------+-------------+----------+----------+------------+----------------+\n",
      "|housingMedianAge|totalRooms|totalBedrooms|population|households|medianIncome|medianHouseValue|\n",
      "+----------------+----------+-------------+----------+----------+------------+----------------+\n",
      "|            21.0|    7099.0|       1106.0|    2401.0|    1138.0|      8.3014|        358500.0|\n",
      "|            52.0|    1467.0|        190.0|     496.0|     177.0|      7.2574|        352100.0|\n",
      "|            52.0|    1274.0|        235.0|     558.0|     219.0|      5.6431|        341300.0|\n",
      "+----------------+----------+-------------+----------+----------+------------+----------------+\n",
      "only showing top 3 rows\n",
      "\n"
     ]
    }
   ],
   "source": [
    "df=df.drop('population After 2 yesrs','longitude','latitude')\n",
    "df.show(3)"
   ]
  },
  {
   "cell_type": "markdown",
   "id": "a92e546d",
   "metadata": {},
   "source": [
    "# Rename the columns"
   ]
  },
  {
   "cell_type": "code",
   "execution_count": 17,
   "id": "b53015a7",
   "metadata": {
    "scrolled": true
   },
   "outputs": [
    {
     "name": "stdout",
     "output_type": "stream",
     "text": [
      "+----------------+----------+-------------+----------+----------+------------+------------------+\n",
      "|housingMedianAge|totalRooms|totalBedrooms|population|households|medianIncome|Median_House_Value|\n",
      "+----------------+----------+-------------+----------+----------+------------+------------------+\n",
      "|            21.0|    7099.0|       1106.0|    2401.0|    1138.0|      8.3014|          358500.0|\n",
      "|            52.0|    1467.0|        190.0|     496.0|     177.0|      7.2574|          352100.0|\n",
      "|            52.0|    1274.0|        235.0|     558.0|     219.0|      5.6431|          341300.0|\n",
      "+----------------+----------+-------------+----------+----------+------------+------------------+\n",
      "only showing top 3 rows\n",
      "\n"
     ]
    }
   ],
   "source": [
    "df=df.withColumnRenamed('medianHouseValue','Median_House_Value')\n",
    "df.show(3)"
   ]
  },
  {
   "cell_type": "code",
   "execution_count": 18,
   "id": "c32af5c8",
   "metadata": {},
   "outputs": [],
   "source": [
    "# Drop all null values\n",
    "df.na.drop();"
   ]
  },
  {
   "cell_type": "code",
   "execution_count": 19,
   "id": "cc2de2de",
   "metadata": {},
   "outputs": [],
   "source": [
    "# Drop using 'how'\n",
    "# all will drop if all row is null, and any will drop if any is null \n",
    "df.na.drop(how='all');"
   ]
  },
  {
   "cell_type": "code",
   "execution_count": 20,
   "id": "82afd460",
   "metadata": {},
   "outputs": [],
   "source": [
    "# thresh=2 will keep the row if there is two not null values in the row  \n",
    "df.na.drop(how='all',thresh=2);"
   ]
  },
  {
   "cell_type": "code",
   "execution_count": 21,
   "id": "7744ae1c",
   "metadata": {},
   "outputs": [],
   "source": [
    "# subset will delete any rows if the value in spicefied column is null \n",
    "df.na.drop(how='all',subset=['Median_House_Value']);"
   ]
  },
  {
   "cell_type": "code",
   "execution_count": 22,
   "id": "6b33fa0b",
   "metadata": {},
   "outputs": [],
   "source": [
    "# filling the missing value, this will fill the missing value with 0 \n",
    "df.na.fill(0,['totalRooms','totalBedrooms']);"
   ]
  },
  {
   "cell_type": "code",
   "execution_count": 23,
   "id": "5f04600d",
   "metadata": {},
   "outputs": [],
   "source": [
    "# fill using Imputer function, will fill missing values with mean\n",
    "from pyspark.ml.feature import Imputer\n",
    "\n",
    "imputer=Imputer(\n",
    "inputCols=['totalRooms','totalBedrooms'],\n",
    "    outputCols=[\"{}_imputed\".format(c) for c in ['totalRooms','totalBedrooms']],\n",
    "    ).setStrategy(\"mean\")"
   ]
  },
  {
   "cell_type": "code",
   "execution_count": 24,
   "id": "01071373",
   "metadata": {},
   "outputs": [
    {
     "name": "stdout",
     "output_type": "stream",
     "text": [
      "+----------------+----------+-------------+----------+----------+------------+------------------+------------------+---------------------+\n",
      "|housingMedianAge|totalRooms|totalBedrooms|population|households|medianIncome|Median_House_Value|totalRooms_imputed|totalBedrooms_imputed|\n",
      "+----------------+----------+-------------+----------+----------+------------+------------------+------------------+---------------------+\n",
      "|            21.0|    7099.0|       1106.0|    2401.0|    1138.0|      8.3014|          358500.0|            7099.0|               1106.0|\n",
      "|            52.0|    1467.0|        190.0|     496.0|     177.0|      7.2574|          352100.0|            1467.0|                190.0|\n",
      "|            52.0|    1274.0|        235.0|     558.0|     219.0|      5.6431|          341300.0|            1274.0|                235.0|\n",
      "+----------------+----------+-------------+----------+----------+------------+------------------+------------------+---------------------+\n",
      "only showing top 3 rows\n",
      "\n"
     ]
    }
   ],
   "source": [
    "# Add imputation cols to df\n",
    "imputer.fit(df).transform(df).show(3)"
   ]
  },
  {
   "cell_type": "markdown",
   "id": "e2551577",
   "metadata": {},
   "source": [
    "# Filter Operations"
   ]
  },
  {
   "cell_type": "code",
   "execution_count": 25,
   "id": "e65d11e7",
   "metadata": {},
   "outputs": [
    {
     "name": "stdout",
     "output_type": "stream",
     "text": [
      "+----------------+----------+-------------+----------+----------+------------+------------------+\n",
      "|housingMedianAge|totalRooms|totalBedrooms|population|households|medianIncome|Median_House_Value|\n",
      "+----------------+----------+-------------+----------+----------+------------+------------------+\n",
      "|            52.0|     249.0|         78.0|     396.0|      85.0|      1.2434|          500001.0|\n",
      "|            52.0|     609.0|        236.0|    1349.0|     250.0|      1.1696|          500001.0|\n",
      "|            52.0|    1668.0|        225.0|     517.0|     214.0|      7.8521|          500001.0|\n",
      "|            52.0|    3726.0|        474.0|    1366.0|     496.0|      9.3959|          500001.0|\n",
      "|            52.0|    2990.0|        379.0|     947.0|     361.0|      7.8772|          500001.0|\n",
      "|            39.0|    2492.0|        310.0|     808.0|     315.0|     11.8603|          500001.0|\n",
      "|            42.0|    2991.0|        335.0|    1018.0|     335.0|      13.499|          500001.0|\n",
      "|            52.0|    3242.0|        366.0|    1001.0|     352.0|     12.2138|          500001.0|\n",
      "|            52.0|    3494.0|        396.0|    1192.0|     383.0|     12.3804|          500001.0|\n",
      "|            52.0|    1611.0|        203.0|     556.0|     179.0|      8.7477|          500001.0|\n",
      "|             9.0|    4909.0|        577.0|    1981.0|     591.0|      9.7194|          500001.0|\n",
      "|            24.0|    3166.0|        424.0|    1081.0|     400.0|      8.3337|          500001.0|\n",
      "|            24.0|    5948.0|        738.0|    1997.0|     710.0|      9.8708|          500001.0|\n",
      "|            18.0|    8953.0|       1074.0|    3011.0|     993.0|     10.7372|          500001.0|\n",
      "|             4.0|    1029.0|        126.0|     416.0|     122.0|     13.4883|          500001.0|\n",
      "|            16.0|    7681.0|        946.0|    2777.0|     908.0|      9.5271|          500001.0|\n",
      "|            10.0|    3209.0|        379.0|    1199.0|     392.0|     12.2478|          500001.0|\n",
      "|            22.0|    4949.0|        626.0|    1850.0|     590.0|     10.4549|          500001.0|\n",
      "|            32.0|    5738.0|        746.0|    2099.0|     732.0|     10.3224|          500001.0|\n",
      "|            17.0|    1320.0|        159.0|    1722.0|     141.0|     11.7064|          500001.0|\n",
      "+----------------+----------+-------------+----------+----------+------------+------------------+\n",
      "only showing top 20 rows\n",
      "\n"
     ]
    }
   ],
   "source": [
    "# Median_House_Value grater than or equl to 500,000\n",
    "df.filter('Median_House_Value>=500000').show()"
   ]
  },
  {
   "cell_type": "code",
   "execution_count": 26,
   "id": "e4bf37e0",
   "metadata": {},
   "outputs": [
    {
     "name": "stdout",
     "output_type": "stream",
     "text": [
      "+------------+------------------+\n",
      "|medianIncome|Median_House_Value|\n",
      "+------------+------------------+\n",
      "|       2.675|           22500.0|\n",
      "|      1.6607|           14999.0|\n",
      "|      1.2132|           30000.0|\n",
      "|      0.8571|           25000.0|\n",
      "|         2.1|           14999.0|\n",
      "|      2.6389|           30000.0|\n",
      "|      2.3013|           26600.0|\n",
      "|      2.1955|           26900.0|\n",
      "|      2.3667|           17500.0|\n",
      "|      4.1932|           14999.0|\n",
      "|      1.2656|           27500.0|\n",
      "|      2.7138|           22500.0|\n",
      "|      1.0918|           22500.0|\n",
      "|      0.7917|           22500.0|\n",
      "|      2.7377|           28300.0|\n",
      "|       0.536|           14999.0|\n",
      "+------------+------------------+\n",
      "\n"
     ]
    }
   ],
   "source": [
    "# selecting few columns\n",
    "df.filter(df['Median_House_Value']<=30000).select(['medianIncome','Median_House_Value']).show()"
   ]
  },
  {
   "cell_type": "code",
   "execution_count": 27,
   "id": "a800c177",
   "metadata": {},
   "outputs": [
    {
     "name": "stdout",
     "output_type": "stream",
     "text": [
      "+----------------+----------+-------------+----------+----------+------------+------------------+\n",
      "|housingMedianAge|totalRooms|totalBedrooms|population|households|medianIncome|Median_House_Value|\n",
      "+----------------+----------+-------------+----------+----------+------------+------------------+\n",
      "|            52.0|       8.0|          1.0|      13.0|       1.0|     15.0001|          500001.0|\n",
      "|            46.0|      30.0|          4.0|      13.0|       5.0|     15.0001|          500001.0|\n",
      "+----------------+----------+-------------+----------+----------+------------+------------------+\n",
      "\n"
     ]
    }
   ],
   "source": [
    "# multiple conditions\n",
    "df.filter((df['Median_House_Value']>=500000) & \n",
    "          (df['totalBedrooms']<=5)).show()"
   ]
  },
  {
   "cell_type": "code",
   "execution_count": 28,
   "id": "38427bc7",
   "metadata": {},
   "outputs": [
    {
     "name": "stdout",
     "output_type": "stream",
     "text": [
      "+----------------+----------+-------------+----------+----------+------------+------------------+\n",
      "|housingMedianAge|totalRooms|totalBedrooms|population|households|medianIncome|Median_House_Value|\n",
      "+----------------+----------+-------------+----------+----------+------------+------------------+\n",
      "|            21.0|    7099.0|       1106.0|    2401.0|    1138.0|      8.3014|          358500.0|\n",
      "|            52.0|    1467.0|        190.0|     496.0|     177.0|      7.2574|          352100.0|\n",
      "|            52.0|    1274.0|        235.0|     558.0|     219.0|      5.6431|          341300.0|\n",
      "|            52.0|    1627.0|        280.0|     565.0|     259.0|      3.8462|          342200.0|\n",
      "|            52.0|     919.0|        213.0|     413.0|     193.0|      4.0368|          269700.0|\n",
      "|            52.0|    2535.0|        489.0|    1094.0|     514.0|      3.6591|          299200.0|\n",
      "|            52.0|    3104.0|        687.0|    1157.0|     647.0|        3.12|          241400.0|\n",
      "|            42.0|    2555.0|        665.0|    1206.0|     595.0|      2.0804|          226700.0|\n",
      "|            52.0|    3549.0|        707.0|    1551.0|     714.0|      3.6912|          261100.0|\n",
      "|            52.0|    2202.0|        434.0|     910.0|     402.0|      3.2031|          281500.0|\n",
      "|            52.0|    3503.0|        752.0|    1504.0|     734.0|      3.2705|          241800.0|\n",
      "|            52.0|    2491.0|        474.0|    1098.0|     468.0|       3.075|          213500.0|\n",
      "|            52.0|     696.0|        191.0|     345.0|     174.0|      2.6736|          191300.0|\n",
      "|            52.0|    2643.0|        626.0|    1212.0|     620.0|      1.9167|          159200.0|\n",
      "|            50.0|    1120.0|        283.0|     697.0|     264.0|       2.125|          140000.0|\n",
      "|            52.0|    1966.0|        347.0|     793.0|     331.0|       2.775|          152500.0|\n",
      "|            52.0|    1228.0|        293.0|     648.0|     303.0|      2.1202|          155500.0|\n",
      "|            50.0|    2239.0|        455.0|     990.0|     419.0|      1.9911|          158700.0|\n",
      "|            52.0|    1503.0|        298.0|     690.0|     275.0|      2.6033|          162900.0|\n",
      "|            40.0|     751.0|        184.0|     409.0|     166.0|      1.3578|          147500.0|\n",
      "+----------------+----------+-------------+----------+----------+------------+------------------+\n",
      "only showing top 20 rows\n",
      "\n"
     ]
    }
   ],
   "source": [
    "# (~) inverse operation (not), this will show anything not matching our conditions\n",
    "df.filter(~(df['Median_House_Value']>=500000)).show()"
   ]
  },
  {
   "cell_type": "markdown",
   "id": "8b662426",
   "metadata": {},
   "source": [
    "# Group by"
   ]
  },
  {
   "cell_type": "code",
   "execution_count": 36,
   "id": "a388ba6d",
   "metadata": {},
   "outputs": [
    {
     "name": "stdout",
     "output_type": "stream",
     "text": [
      "+----------------+-----------------------+\n",
      "|housingMedianAge|sum(Median_House_Value)|\n",
      "+----------------+-----------------------+\n",
      "|             8.0|            4.0049404E7|\n",
      "|             7.0|            3.3826806E7|\n",
      "|            49.0|            2.9525008E7|\n",
      "+----------------+-----------------------+\n",
      "only showing top 3 rows\n",
      "\n"
     ]
    }
   ],
   "source": [
    "df.groupby('housingMedianAge').sum('Median_House_Value').show(3)"
   ]
  },
  {
   "cell_type": "code",
   "execution_count": null,
   "id": "fbf6f382",
   "metadata": {},
   "outputs": [],
   "source": []
  },
  {
   "cell_type": "code",
   "execution_count": null,
   "id": "eb4dd03b",
   "metadata": {},
   "outputs": [],
   "source": []
  },
  {
   "cell_type": "code",
   "execution_count": null,
   "id": "ada8ba57",
   "metadata": {},
   "outputs": [],
   "source": []
  }
 ],
 "metadata": {
  "kernelspec": {
   "display_name": "Python 3",
   "language": "python",
   "name": "python3"
  },
  "language_info": {
   "codemirror_mode": {
    "name": "ipython",
    "version": 3
   },
   "file_extension": ".py",
   "mimetype": "text/x-python",
   "name": "python",
   "nbconvert_exporter": "python",
   "pygments_lexer": "ipython3",
   "version": "3.9.5"
  }
 },
 "nbformat": 4,
 "nbformat_minor": 5
}
